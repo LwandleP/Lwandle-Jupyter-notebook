{
    "cells": [
        {
            "metadata": {
                "collapsed": true
            },
            "cell_type": "markdown",
            "source": "### My Jupyter Notebook on Watson Studio"
        },
        {
            "metadata": {},
            "cell_type": "markdown",
            "source": "**LWANDLE P SIMELANE**\nProject Manager "
        },
        {
            "metadata": {},
            "cell_type": "markdown",
            "source": "*I am interested in data science because of the impact data has in propelling organisation to perform at their best levels. Data is the key to making evidence based decisions which are responsive to challenges faced by organisations.* "
        },
        {
            "metadata": {},
            "cell_type": "markdown",
            "source": "###crucial organisational tasks <h3>."
        },
        {
            "metadata": {},
            "cell_type": "code",
            "source": "6+6",
            "execution_count": null,
            "outputs": []
        },
        {
            "metadata": {},
            "cell_type": "markdown",
            "source": ""
        }
    ],
    "metadata": {
        "kernelspec": {
            "name": "python3",
            "display_name": "Python 3.8",
            "language": "python"
        },
        "language_info": {
            "name": "python",
            "version": "3.8.10",
            "mimetype": "text/x-python",
            "codemirror_mode": {
                "name": "ipython",
                "version": 3
            },
            "pygments_lexer": "ipython3",
            "nbconvert_exporter": "python",
            "file_extension": ".py"
        }
    },
    "nbformat": 4,
    "nbformat_minor": 1
}
